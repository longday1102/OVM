{
 "cells": [
  {
   "cell_type": "code",
   "execution_count": null,
   "id": "a680f95c-f0c7-4584-a668-d5c8821a7a59",
   "metadata": {},
   "outputs": [],
   "source": [
    "from test import GetResponse\n",
    "from build_verifier import VerifierModel, load_generator_and_tokenizer\n",
    "from transformers import GenerationConfig, PreTrainedModel, PreTrainedTokenizer\n",
    "import torch"
   ]
  },
  {
   "cell_type": "code",
   "execution_count": null,
   "id": "09c819bc-da25-4c7a-b6c5-83f3301e8964",
   "metadata": {},
   "outputs": [],
   "source": [
    "def set_seed(seed):\n",
    "    torch.manual_seed(seed)\n",
    "    if torch.cuda.is_available():\n",
    "        torch.cuda.manual_seed_all(seed)\n",
    "set_seed(42)"
   ]
  },
  {
   "cell_type": "code",
   "execution_count": null,
   "id": "db4373bd-6488-4e60-82db-8afb36e56d99",
   "metadata": {},
   "outputs": [],
   "source": [
    "generator_path = \"longhoang06/OVM-generator\"\n",
    "verifier_wight_path = \"checkpoint/verifier/verifier.pt\"\n",
    "generator, tokenizer = load_generator_and_tokenizer(\n",
    "    generator_path = generator_path,\n",
    "    load_k_bit = False,\n",
    "    local_rank = None,\n",
    ")"
   ]
  },
  {
   "cell_type": "code",
   "execution_count": null,
   "id": "dd60bb2e-8e12-43b9-bf56-264f51efa20f",
   "metadata": {},
   "outputs": [],
   "source": [
    "generation_utils = GetResponse(\n",
    "    generator = generator,\n",
    "    tokenizer = tokenizer,\n",
    "    verifier_weigth_path = verifier_weigth_path,\n",
    ")"
   ]
  },
  {
   "cell_type": "code",
   "execution_count": null,
   "id": "fd9654aa-845b-43b5-927f-6717694a622b",
   "metadata": {},
   "outputs": [],
   "source": [
    "input_text = \"\"\n",
    "response = generation_utils.generate_response(\n",
    "    input_text = input_text,\n",
    "    ovm_mode = True,\n",
    ")"
   ]
  }
 ],
 "metadata": {
  "kernelspec": {
   "display_name": "Python 3 (ipykernel)",
   "language": "python",
   "name": "python3"
  },
  "language_info": {
   "codemirror_mode": {
    "name": "ipython",
    "version": 3
   },
   "file_extension": ".py",
   "mimetype": "text/x-python",
   "name": "python",
   "nbconvert_exporter": "python",
   "pygments_lexer": "ipython3",
   "version": "3.9.7"
  }
 },
 "nbformat": 4,
 "nbformat_minor": 5
}
