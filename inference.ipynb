{
 "cells": [
  {
   "cell_type": "code",
   "execution_count": 4,
   "metadata": {
    "execution": {
     "iopub.execute_input": "2024-01-14T13:50:22.546746Z",
     "iopub.status.busy": "2024-01-14T13:50:22.546329Z",
     "iopub.status.idle": "2024-01-14T13:50:29.553986Z",
     "shell.execute_reply": "2024-01-14T13:50:29.553134Z",
     "shell.execute_reply.started": "2024-01-14T13:50:22.546707Z"
    }
   },
   "outputs": [],
   "source": [
    "from inference import GetResponse\n",
    "from build_verifier import VerifierModel, load_generator_and_tokenizer\n",
    "from transformers import GenerationConfig, PreTrainedModel, PreTrainedTokenizer\n",
    "import torch\n",
    "\n",
    "def set_seed(seed):\n",
    "    torch.manual_seed(seed)\n",
    "    if torch.cuda.is_available():\n",
    "        torch.cuda.manual_seed_all(seed)\n",
    "set_seed(42)"
   ]
  },
  {
   "cell_type": "code",
   "execution_count": 5,
   "metadata": {
    "execution": {
     "iopub.execute_input": "2024-01-14T13:50:29.555645Z",
     "iopub.status.busy": "2024-01-14T13:50:29.555145Z",
     "iopub.status.idle": "2024-01-14T13:51:54.480112Z",
     "shell.execute_reply": "2024-01-14T13:51:54.479164Z",
     "shell.execute_reply.started": "2024-01-14T13:50:29.555616Z"
    }
   },
   "outputs": [
    {
     "data": {
      "application/vnd.jupyter.widget-view+json": {
       "model_id": "49a57c24f40c4eb9b7e46144c32fded1",
       "version_major": 2,
       "version_minor": 0
      },
      "text/plain": [
       "adapter_config.json:   0%|          | 0.00/669 [00:00<?, ?B/s]"
      ]
     },
     "metadata": {},
     "output_type": "display_data"
    },
    {
     "data": {
      "application/vnd.jupyter.widget-view+json": {
       "model_id": "5fcd663231b44382a434b151299af0a6",
       "version_major": 2,
       "version_minor": 0
      },
      "text/plain": [
       "tokenizer_config.json:   0%|          | 0.00/967 [00:00<?, ?B/s]"
      ]
     },
     "metadata": {},
     "output_type": "display_data"
    },
    {
     "data": {
      "application/vnd.jupyter.widget-view+json": {
       "model_id": "20624aa02e9345e58a5ffe26cf6beb7b",
       "version_major": 2,
       "version_minor": 0
      },
      "text/plain": [
       "tokenizer.model:   0%|          | 0.00/493k [00:00<?, ?B/s]"
      ]
     },
     "metadata": {},
     "output_type": "display_data"
    },
    {
     "data": {
      "application/vnd.jupyter.widget-view+json": {
       "model_id": "e29042a1cfaa46608b5a26bb825b6d67",
       "version_major": 2,
       "version_minor": 0
      },
      "text/plain": [
       "tokenizer.json:   0%|          | 0.00/1.80M [00:00<?, ?B/s]"
      ]
     },
     "metadata": {},
     "output_type": "display_data"
    },
    {
     "data": {
      "application/vnd.jupyter.widget-view+json": {
       "model_id": "94e36ff623754f2e969ea65dcef0acac",
       "version_major": 2,
       "version_minor": 0
      },
      "text/plain": [
       "special_tokens_map.json:   0%|          | 0.00/72.0 [00:00<?, ?B/s]"
      ]
     },
     "metadata": {},
     "output_type": "display_data"
    },
    {
     "data": {
      "application/vnd.jupyter.widget-view+json": {
       "model_id": "87c5e2b7d1c34977860535aca221465e",
       "version_major": 2,
       "version_minor": 0
      },
      "text/plain": [
       "config.json:   0%|          | 0.00/571 [00:00<?, ?B/s]"
      ]
     },
     "metadata": {},
     "output_type": "display_data"
    },
    {
     "data": {
      "application/vnd.jupyter.widget-view+json": {
       "model_id": "d7121c7a1df84ab5a4744ba5e89e9c54",
       "version_major": 2,
       "version_minor": 0
      },
      "text/plain": [
       "model.safetensors.index.json:   0%|          | 0.00/25.1k [00:00<?, ?B/s]"
      ]
     },
     "metadata": {},
     "output_type": "display_data"
    },
    {
     "data": {
      "application/vnd.jupyter.widget-view+json": {
       "model_id": "614b741febc44fe9954f14431b1689bc",
       "version_major": 2,
       "version_minor": 0
      },
      "text/plain": [
       "Downloading shards:   0%|          | 0/2 [00:00<?, ?it/s]"
      ]
     },
     "metadata": {},
     "output_type": "display_data"
    },
    {
     "data": {
      "application/vnd.jupyter.widget-view+json": {
       "model_id": "545ac712edfe46a29f3e99a9af9f2002",
       "version_major": 2,
       "version_minor": 0
      },
      "text/plain": [
       "model-00001-of-00002.safetensors:   0%|          | 0.00/9.94G [00:00<?, ?B/s]"
      ]
     },
     "metadata": {},
     "output_type": "display_data"
    },
    {
     "data": {
      "application/vnd.jupyter.widget-view+json": {
       "model_id": "036ed70d2143400b8c4167ab9168fe4c",
       "version_major": 2,
       "version_minor": 0
      },
      "text/plain": [
       "model-00002-of-00002.safetensors:   0%|          | 0.00/4.54G [00:00<?, ?B/s]"
      ]
     },
     "metadata": {},
     "output_type": "display_data"
    },
    {
     "data": {
      "application/vnd.jupyter.widget-view+json": {
       "model_id": "c6ab0585d606491db431658b2f838bb2",
       "version_major": 2,
       "version_minor": 0
      },
      "text/plain": [
       "Loading checkpoint shards:   0%|          | 0/2 [00:00<?, ?it/s]"
      ]
     },
     "metadata": {},
     "output_type": "display_data"
    },
    {
     "data": {
      "application/vnd.jupyter.widget-view+json": {
       "model_id": "1125bfc88f954cdc99f7d6c6f948f763",
       "version_major": 2,
       "version_minor": 0
      },
      "text/plain": [
       "generation_config.json:   0%|          | 0.00/116 [00:00<?, ?B/s]"
      ]
     },
     "metadata": {},
     "output_type": "display_data"
    },
    {
     "data": {
      "application/vnd.jupyter.widget-view+json": {
       "model_id": "81236f5f3f6a4aa4b22c94ac785632bd",
       "version_major": 2,
       "version_minor": 0
      },
      "text/plain": [
       "adapter_model.safetensors:   0%|          | 0.00/602M [00:00<?, ?B/s]"
      ]
     },
     "metadata": {},
     "output_type": "display_data"
    },
    {
     "name": "stdout",
     "output_type": "stream",
     "text": [
      "All parameters of vscore_head aren't frozen:  True\n",
      "All parameters of backbone are frozen:  True\n"
     ]
    }
   ],
   "source": [
    "generator_path = \"longhoang06/OVM-generator\"\n",
    "verifier_weight_path = \"checkpoint/verifier/verifier.pt\"\n",
    "generator, tokenizer = load_generator_and_tokenizer(\n",
    "    generator_path = generator_path,\n",
    "    load_k_bit = False,\n",
    "    local_rank = None,\n",
    ")\n",
    "\n",
    "generation_utils = GetResponse(\n",
    "    generator = generator,\n",
    "    tokenizer = tokenizer,\n",
    "    verifier_weight_path = verifier_weight_path,\n",
    ")"
   ]
  },
  {
   "cell_type": "code",
   "execution_count": 6,
   "metadata": {
    "execution": {
     "iopub.execute_input": "2024-01-14T13:51:54.481592Z",
     "iopub.status.busy": "2024-01-14T13:51:54.481279Z",
     "iopub.status.idle": "2024-01-14T13:57:59.452996Z",
     "shell.execute_reply": "2024-01-14T13:57:59.451946Z",
     "shell.execute_reply.started": "2024-01-14T13:51:54.481567Z"
    }
   },
   "outputs": [
    {
     "name": "stderr",
     "output_type": "stream",
     "text": [
      "The attention mask and the pad token id were not set. As a consequence, you may observe unexpected behavior. Please pass your input's `attention_mask` to obtain reliable results.\n",
      "Setting `pad_token_id` to `eos_token_id`:2 for open-end generation.\n",
      "/opt/conda/lib/python3.10/site-packages/scipy/__init__.py:146: UserWarning: A NumPy version >=1.16.5 and <1.23.0 is required for this version of SciPy (detected version 1.24.3\n",
      "  warnings.warn(f\"A NumPy version >={np_minversion} and <{np_maxversion}\"\n",
      "The attention mask and the pad token id were not set. As a consequence, you may observe unexpected behavior. Please pass your input's `attention_mask` to obtain reliable results.\n",
      "Setting `pad_token_id` to `eos_token_id`:2 for open-end generation.\n",
      "The attention mask and the pad token id were not set. As a consequence, you may observe unexpected behavior. Please pass your input's `attention_mask` to obtain reliable results.\n",
      "Setting `pad_token_id` to `eos_token_id`:2 for open-end generation.\n",
      "A decoder-only architecture is being used, but right-padding was detected! For correct generation results, please set `padding_side='left'` when initializing the tokenizer.\n",
      "The attention mask and the pad token id were not set. As a consequence, you may observe unexpected behavior. Please pass your input's `attention_mask` to obtain reliable results.\n",
      "Setting `pad_token_id` to `eos_token_id`:2 for open-end generation.\n",
      "A decoder-only architecture is being used, but right-padding was detected! For correct generation results, please set `padding_side='left'` when initializing the tokenizer.\n"
     ]
    },
    {
     "name": "stdout",
     "output_type": "stream",
     "text": [
      "Question:  Tôi có 3 quả táo, số táo của tôi nhiều hơn số táo của Nam là 2 quả. Số táo của Nam ít hơn số táo của Hiền là 7 quả. Hỏi Hiền có bao nhiêu quả táo?\n",
      "Answer:  Nam có 3-2=1 quả táo Hiền có 1+7=8 quả táo. Đáp án: 8\n"
     ]
    }
   ],
   "source": [
    "input_text = \"Tôi có 3 quả táo, số táo của tôi nhiều hơn số táo của Nam là 2 quả. Số táo của Nam ít hơn số táo của Hiền là 7 quả. Hỏi Hiền có bao nhiêu quả táo?\"\n",
    "response = generation_utils.generate_response(\n",
    "    input_text = input_text,\n",
    "    ovm_mode = True,\n",
    ")\n",
    "print(\"Question: \", input_text)\n",
    "print(\"Answer: \", response)"
   ]
  },
  {
   "cell_type": "code",
   "execution_count": 8,
   "metadata": {
    "execution": {
     "iopub.execute_input": "2024-01-14T14:12:07.791595Z",
     "iopub.status.busy": "2024-01-14T14:12:07.791284Z",
     "iopub.status.idle": "2024-01-14T14:14:41.425461Z",
     "shell.execute_reply": "2024-01-14T14:14:41.424458Z",
     "shell.execute_reply.started": "2024-01-14T14:12:07.791568Z"
    }
   },
   "outputs": [
    {
     "name": "stderr",
     "output_type": "stream",
     "text": [
      "The attention mask and the pad token id were not set. As a consequence, you may observe unexpected behavior. Please pass your input's `attention_mask` to obtain reliable results.\n",
      "Setting `pad_token_id` to `eos_token_id`:2 for open-end generation.\n",
      "The attention mask and the pad token id were not set. As a consequence, you may observe unexpected behavior. Please pass your input's `attention_mask` to obtain reliable results.\n",
      "Setting `pad_token_id` to `eos_token_id`:2 for open-end generation.\n"
     ]
    },
    {
     "name": "stdout",
     "output_type": "stream",
     "text": [
      "Question:  Tìm nửa chu vi của khu vườn hình chữ nhật dài 50cm, rộng 40cm.\n",
      "Answer:  Chu vi của hình chữ nhật là 2*l + 2*w = 2*50 + 2*40 = 2*90 = 180 cm. Nửa chu vi là 180/2 = 90 cm. Đáp án: 90\n"
     ]
    }
   ],
   "source": [
    "input_text = \"Tìm nửa chu vi của khu vườn hình chữ nhật dài 50cm, rộng 40cm.\"\n",
    "response = generation_utils.generate_response(\n",
    "    input_text = input_text,\n",
    "    ovm_mode = True,\n",
    ")\n",
    "print(\"Question: \", input_text)\n",
    "print(\"Answer: \", response)"
   ]
  },
  {
   "cell_type": "code",
   "execution_count": 9,
   "metadata": {
    "execution": {
     "iopub.execute_input": "2024-01-14T14:14:41.427079Z",
     "iopub.status.busy": "2024-01-14T14:14:41.426772Z",
     "iopub.status.idle": "2024-01-14T14:20:57.465822Z",
     "shell.execute_reply": "2024-01-14T14:20:57.464819Z",
     "shell.execute_reply.started": "2024-01-14T14:14:41.427054Z"
    }
   },
   "outputs": [
    {
     "name": "stderr",
     "output_type": "stream",
     "text": [
      "The attention mask and the pad token id were not set. As a consequence, you may observe unexpected behavior. Please pass your input's `attention_mask` to obtain reliable results.\n",
      "Setting `pad_token_id` to `eos_token_id`:2 for open-end generation.\n",
      "The attention mask and the pad token id were not set. As a consequence, you may observe unexpected behavior. Please pass your input's `attention_mask` to obtain reliable results.\n",
      "Setting `pad_token_id` to `eos_token_id`:2 for open-end generation.\n",
      "The attention mask and the pad token id were not set. As a consequence, you may observe unexpected behavior. Please pass your input's `attention_mask` to obtain reliable results.\n",
      "Setting `pad_token_id` to `eos_token_id`:2 for open-end generation.\n",
      "The attention mask and the pad token id were not set. As a consequence, you may observe unexpected behavior. Please pass your input's `attention_mask` to obtain reliable results.\n",
      "Setting `pad_token_id` to `eos_token_id`:2 for open-end generation.\n"
     ]
    },
    {
     "name": "stdout",
     "output_type": "stream",
     "text": [
      "Question:  Duyên có 18 viên kẹo, Kiên có số viên kẹo bằng 2/3 số kẹo của Duyên, riêng Châu có số kẹo bằng trung bình cộng của Duyên và Kiên. Hỏi cả 3 bạn Duyên, Kiên và Châu có tổng cộng bao nhiêu viên kẹo?\n",
      "Answer:  Kiên có (2/3) * 18 viên kẹo = 12 viên kẹo. Tổng số viên kẹo của Duyên và Kiên là 12 + 18 = 30 viên kẹo. Châu có (30 viên kẹo/2) - 3 = 15 viên kẹo. Tổng số kẹo của cả ba là 15 + 30 = 45 viên kẹo. Đáp án: 45\n"
     ]
    }
   ],
   "source": [
    "input_text = \"Duyên có 18 viên kẹo, Kiên có số viên kẹo bằng 2/3 số kẹo của Duyên, riêng Châu có số kẹo bằng trung bình cộng của Duyên và Kiên. Hỏi cả 3 bạn Duyên, Kiên và Châu có tổng cộng bao nhiêu viên kẹo?\"\n",
    "response = generation_utils.generate_response(\n",
    "    input_text = input_text,\n",
    "    ovm_mode = True,\n",
    ")\n",
    "print(\"Question: \", input_text)\n",
    "print(\"Answer: \", response)"
   ]
  },
  {
   "cell_type": "code",
   "execution_count": 10,
   "metadata": {
    "execution": {
     "iopub.execute_input": "2024-01-14T14:20:57.469444Z",
     "iopub.status.busy": "2024-01-14T14:20:57.468903Z",
     "iopub.status.idle": "2024-01-14T14:26:06.693927Z",
     "shell.execute_reply": "2024-01-14T14:26:06.692809Z",
     "shell.execute_reply.started": "2024-01-14T14:20:57.469396Z"
    }
   },
   "outputs": [
    {
     "name": "stderr",
     "output_type": "stream",
     "text": [
      "The attention mask and the pad token id were not set. As a consequence, you may observe unexpected behavior. Please pass your input's `attention_mask` to obtain reliable results.\n",
      "Setting `pad_token_id` to `eos_token_id`:2 for open-end generation.\n",
      "The attention mask and the pad token id were not set. As a consequence, you may observe unexpected behavior. Please pass your input's `attention_mask` to obtain reliable results.\n",
      "Setting `pad_token_id` to `eos_token_id`:2 for open-end generation.\n",
      "The attention mask and the pad token id were not set. As a consequence, you may observe unexpected behavior. Please pass your input's `attention_mask` to obtain reliable results.\n",
      "Setting `pad_token_id` to `eos_token_id`:2 for open-end generation.\n",
      "The attention mask and the pad token id were not set. As a consequence, you may observe unexpected behavior. Please pass your input's `attention_mask` to obtain reliable results.\n",
      "Setting `pad_token_id` to `eos_token_id`:2 for open-end generation.\n"
     ]
    },
    {
     "name": "stdout",
     "output_type": "stream",
     "text": [
      "Question:  Vào tháng 11, một món đồ chơi có giá 40 USD. Vào tháng 12, giá tăng 80%. Vào tháng 1, giá đã giảm 50%. Giá của món đồ chơi sau khi được giảm giá vào tháng 1 là bao nhiêu?\n",
      "Answer:  Vào tháng 12, giá tăng thêm 40 USD x 80/100 = 32 USD. Vậy giá tăng lên $40 + $32 = $72. Vào tháng 1, giá giảm đi $72 x 50/100 = $36. Vậy giá cuối cùng là $72 - $36 = $36. Đáp án: 36\n"
     ]
    }
   ],
   "source": [
    "input_text = \"Vào tháng 11, một món đồ chơi có giá 40000 VND. Vào tháng 12, giá tăng 80%. Vào tháng 1, giá đã giảm 50%. Giá của món đồ chơi sau khi được giảm giá vào tháng 1 là bao nhiêu?\"\n",
    "response = generation_utils.generate_response(\n",
    "    input_text = input_text,\n",
    "    ovm_mode = True,\n",
    ")\n",
    "print(\"Question: \", input_text)\n",
    "print(\"Answer: \", response)"
   ]
  },
  {
   "cell_type": "code",
   "execution_count": 13,
   "metadata": {
    "execution": {
     "iopub.execute_input": "2024-01-14T14:32:00.427828Z",
     "iopub.status.busy": "2024-01-14T14:32:00.427437Z",
     "iopub.status.idle": "2024-01-14T14:34:57.862565Z",
     "shell.execute_reply": "2024-01-14T14:34:57.861495Z",
     "shell.execute_reply.started": "2024-01-14T14:32:00.427798Z"
    }
   },
   "outputs": [
    {
     "name": "stderr",
     "output_type": "stream",
     "text": [
      "The attention mask and the pad token id were not set. As a consequence, you may observe unexpected behavior. Please pass your input's `attention_mask` to obtain reliable results.\n",
      "Setting `pad_token_id` to `eos_token_id`:2 for open-end generation.\n",
      "The attention mask and the pad token id were not set. As a consequence, you may observe unexpected behavior. Please pass your input's `attention_mask` to obtain reliable results.\n",
      "Setting `pad_token_id` to `eos_token_id`:2 for open-end generation.\n"
     ]
    },
    {
     "name": "stdout",
     "output_type": "stream",
     "text": [
      "Question:  Long tìm thấy 214 vỏ sò, Hưng tìm thấy 432 vỏ sò và Bảo tìm thấy 86 vỏ sò trên bãi biển. Khi lau chùi chúng, họ phát hiện ra 67 chiếc đã bị nứt. Vậy họ đã cùng nhau tìm được bao nhiêu vỏ sò tốt?\n",
      "Answer:  Tất cả đều tìm được 214+432+86=732 vỏ sò. Sau khi lau chùi chúng, họ tìm được 732-67=665 vỏ sò tốt. Đáp án: 665\n"
     ]
    }
   ],
   "source": [
    "input_text = \"Long tìm thấy 214 vỏ sò, Hưng tìm thấy 432 vỏ sò và Bảo tìm thấy 86 vỏ sò trên bãi biển. Khi lau chùi chúng, họ phát hiện ra 67 chiếc đã bị nứt. Vậy họ đã cùng nhau tìm được bao nhiêu vỏ sò tốt?\"\n",
    "response = generation_utils.generate_response(\n",
    "    input_text = input_text,\n",
    "    ovm_mode = True,\n",
    ")\n",
    "print(\"Question: \", input_text)\n",
    "print(\"Answer: \", response)"
   ]
  }
 ],
 "metadata": {
  "kaggle": {
   "accelerator": "nvidiaTeslaT4",
   "dataSources": [],
   "dockerImageVersionId": 30636,
   "isGpuEnabled": true,
   "isInternetEnabled": true,
   "language": "python",
   "sourceType": "notebook"
  },
  "kernelspec": {
   "display_name": "Python 3 (ipykernel)",
   "language": "python",
   "name": "python3"
  },
  "language_info": {
   "codemirror_mode": {
    "name": "ipython",
    "version": 3
   },
   "file_extension": ".py",
   "mimetype": "text/x-python",
   "name": "python",
   "nbconvert_exporter": "python",
   "pygments_lexer": "ipython3",
   "version": "3.9.7"
  }
 },
 "nbformat": 4,
 "nbformat_minor": 4
}
